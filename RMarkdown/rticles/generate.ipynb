{
 "cells": [
  {
   "cell_type": "markdown",
   "metadata": {
    "collapsed": false
   },
   "source": [
    "# Generate all `rticles` drafts"
   ]
  },
  {
   "cell_type": "code",
   "execution_count": 1,
   "metadata": {
    "collapsed": false
   },
   "outputs": [
    {
     "name": "stderr",
     "output_type": "stream",
     "text": [
      "Loading required package: rticles\n"
     ]
    }
   ],
   "source": [
    "require(rticles)"
   ]
  },
  {
   "cell_type": "code",
   "execution_count": 2,
   "metadata": {
    "collapsed": false
   },
   "outputs": [
    {
     "data": {
      "text/html": [
      ]
     },
     "execution_count": 2,
     "metadata": {
     },
     "output_type": "execute_result"
    }
   ],
   "source": [
    "# cleanup\n",
    "system2(\"bash\", args = c(\"-c\", \"'rm ctex*'\"))\n",
    "system2(\"bash\", args = c(\"-c\", \"'find -mindepth 1 -type d -print0 | xargs -0 rm -rf'\"), \n",
    "  stdout = TRUE)"
   ]
  },
  {
   "cell_type": "code",
   "execution_count": 3,
   "metadata": {
    "collapsed": false
   },
   "outputs": [
    {
     "name": "stdout",
     "output_type": "stream",
     "text": [
      "[1] \"problem: Error in rmarkdown::draft(fn, template = name, package = \\\"rticles\\\"): The template 'ctex_template' was not found in the rticles package\\n\"\n"
     ]
    }
   ],
   "source": [
    "for (name in getNamespaceExports(\"rticles\")) {\n",
    "  fn = paste(name, \".Rmd\", sep=\"\")\n",
    "  tryCatch({\n",
    "    rmarkdown::draft(fn, template = name, package = \"rticles\")\n",
    "  }, error = function(err) {\n",
    "    print(paste(\"problem:\", err))\n",
    "  })\n",
    "}"
   ]
  },
  {
   "cell_type": "code",
   "execution_count": 0,
   "metadata": {
    "collapsed": false
   },
   "outputs": [
   ],
   "source": [
   ]
  }
 ],
 "metadata": {
  "kernelspec": {
   "display_name": "R (R-Project)",
   "language": "r",
   "name": "ir"
  },
  "language_info": {
   "codemirror_mode": "r",
   "file_extension": ".r",
   "mimetype": "text/x-r-source",
   "name": "R",
   "pygments_lexer": "r",
   "version": "3.4.4"
  }
 },
 "nbformat": 4,
 "nbformat_minor": 0
}